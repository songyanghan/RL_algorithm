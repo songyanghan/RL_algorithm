{
 "cells": [
  {
   "cell_type": "code",
   "execution_count": 2,
   "metadata": {},
   "outputs": [],
   "source": [
    "# 模块导入和参数设置\n",
    "import torch\n",
    "import torch.nn as nn\n",
    "import torch.nn.functional as F\n",
    "import numpy as np\n",
    "import gym\n",
    "\n",
    "# 超参数\n",
    "BATCH_SIZE = 32\n",
    "LR = 0.01                   # learning rate\n",
    "EPSILON = 0.9               # 最优选择动作百分比\n",
    "GAMMA = 0.9                 # 奖励递减参数\n",
    "TARGET_REPLACE_ITER = 100   # Q 现实网络的更新频率\n",
    "MEMORY_CAPACITY = 2000      # 记忆库大小\n",
    "env = gym.make('CartPole-v0')   # 立杆子游戏\n",
    "env = env.unwrapped\n",
    "N_ACTIONS = env.action_space.n  # 杆子能做的动作\n",
    "N_STATES = env.observation_space.shape[0]   # 杆子能获取的环境信息数\n",
    "\n",
    "# 神经网络\n",
    "class Net(nn.Module):\n",
    "    def __init__(self, ):\n",
    "        super(Net, self).__init__()\n",
    "        self.fc1 = nn.Linear(N_STATES, 10)\n",
    "        self.fc1.weight.data.normal_(0, 0.1)   # initialization\n",
    "        self.out = nn.Linear(10, N_ACTIONS)\n",
    "        self.out.weight.data.normal_(0, 0.1)   # initialization\n",
    "\n",
    "    def forward(self, x):\n",
    "        x = self.fc1(x)\n",
    "        x = F.relu(x)\n",
    "        actions_value = self.out(x)\n",
    "        return actions_value\n",
    "        \n",
    "# DQN 体系\n",
    "class DQN(object):\n",
    "    # 建立 target net 和 eval net 还有 memory\n",
    "    def __init__(self):\n",
    "        self.eval_net, self.target_net = Net(), Net()\n",
    "\n",
    "        self.learn_step_counter = 0     # 用于 target 更新计时\n",
    "        self.memory_counter = 0         # 记忆库记数\n",
    "        self.memory = np.zeros((MEMORY_CAPACITY, N_STATES * 2 + 2))     # 初始化记忆库\n",
    "        self.optimizer = torch.optim.Adam(self.eval_net.parameters(), lr=LR)    # torch 的优化器\n",
    "        self.loss_func = nn.MSELoss()   # 误差公式\n",
    "    \n",
    "    # 根据环境观测值选择动作的机制\n",
    "    def choose_action(self, x):\n",
    "        x = torch.FloatTensor(x).unsqueeze(0)\n",
    "        # 这里只输入一个 sample\n",
    "        if np.random.uniform() < EPSILON:   # 选最优动作\n",
    "            actions_value = self.eval_net.forward(x)\n",
    "            action = torch.max(actions_value, 1)[1].numpy()[0]     # return the argmax\n",
    "        else:   # 选随机动作\n",
    "            action = np.random.randint(0, N_ACTIONS)\n",
    "        return action\n",
    "    \n",
    "    # 存储记忆\n",
    "    def store_transition(self, s, a, r, s_):\n",
    "        transition = np.hstack((s, [a, r], s_))\n",
    "        # 如果记忆库满了, 就覆盖老数据\n",
    "        index = self.memory_counter % MEMORY_CAPACITY\n",
    "        self.memory[index, :] = transition\n",
    "        self.memory_counter += 1\n",
    "    \n",
    "    # target 网络更新\n",
    "    # 学习记忆库中的记忆\n",
    "    def learn(self):\n",
    "        # target net 参数更新\n",
    "        if self.learn_step_counter % TARGET_REPLACE_ITER == 0:\n",
    "            self.target_net.load_state_dict(self.eval_net.state_dict())\n",
    "        self.learn_step_counter += 1\n",
    "\n",
    "        # 抽取记忆库中的批数据\n",
    "        sample_index = np.random.choice(MEMORY_CAPACITY, BATCH_SIZE)\n",
    "        b_memory = self.memory[sample_index, :]\n",
    "        b_s = torch.FloatTensor(b_memory[:, :N_STATES])\n",
    "        b_a = torch.LongTensor(b_memory[:, N_STATES:N_STATES+1].astype(int))\n",
    "        b_r = torch.FloatTensor(b_memory[:, N_STATES+1:N_STATES+2])\n",
    "        b_s_ = torch.FloatTensor(b_memory[:, -N_STATES:])\n",
    "\n",
    "        # 针对做过的动作b_a, 来选 q_eval 的值, (q_eval 原本有所有动作的值)\n",
    "        q_eval = self.eval_net(b_s).gather(1, b_a)  # shape (batch, 1)\n",
    "        q_next = self.target_net(b_s_).detach()     # q_next 不进行反向传递误差, 所以 detach\n",
    "        q_target = b_r + GAMMA * q_next.max(1)[0]   # shape (batch, 1)\n",
    "        loss = self.loss_func(q_eval, q_target)\n",
    "\n",
    "        # 计算, 更新 eval net\n",
    "        self.optimizer.zero_grad()\n",
    "        loss.backward()\n",
    "        self.optimizer.step()\n",
    "\n"
   ]
  },
  {
   "cell_type": "code",
   "execution_count": 3,
   "metadata": {},
   "outputs": [
    {
     "name": "stderr",
     "output_type": "stream",
     "text": [
      "/Users/v_hansongyang/opt/anaconda3/lib/python3.7/site-packages/torch/nn/modules/loss.py:432: UserWarning: Using a target size (torch.Size([32, 32])) that is different to the input size (torch.Size([32, 1])). This will likely lead to incorrect results due to broadcasting. Please ensure they have the same size.\n",
      "  return F.mse_loss(input, target, reduction=self.reduction)\n"
     ]
    }
   ],
   "source": [
    "# 训练\n",
    "dqn = DQN() # 定义 DQN 系统\n",
    "\n",
    "for i_episode in range(400):\n",
    "    s = env.reset()\n",
    "    while True:\n",
    "        # env.render()    # 显示实验动画\n",
    "        a = dqn.choose_action(s)\n",
    "\n",
    "        # 选动作, 得到环境反馈\n",
    "        s_, r, done, info = env.step(a)\n",
    "\n",
    "        # 修改 reward, 使 DQN 快速学习\n",
    "        x, x_dot, theta, theta_dot = s_\n",
    "        r1 = (env.x_threshold - abs(x)) / env.x_threshold - 0.8\n",
    "        r2 = (env.theta_threshold_radians - abs(theta)) / env.theta_threshold_radians - 0.5\n",
    "        r = r1 + r2\n",
    "\n",
    "        # 存记忆\n",
    "        dqn.store_transition(s, a, r, s_)\n",
    "\n",
    "        if dqn.memory_counter > MEMORY_CAPACITY:\n",
    "            dqn.learn() # 记忆库满了就进行学习\n",
    "\n",
    "        if done:    # 如果回合结束, 进入下回合\n",
    "            break\n",
    "\n",
    "        s = s_\n",
    "env.close()"
   ]
  },
  {
   "cell_type": "code",
   "execution_count": 4,
   "metadata": {},
   "outputs": [],
   "source": [
    "        sample_index = np.random.choice(MEMORY_CAPACITY, BATCH_SIZE)\n",
    "        b_memory = dqn.memory[sample_index, :]\n",
    "        b_s = torch.FloatTensor(b_memory[:, :N_STATES])\n",
    "        b_a = torch.LongTensor(b_memory[:, N_STATES:N_STATES+1].astype(int))\n",
    "        b_r = torch.FloatTensor(b_memory[:, N_STATES+1:N_STATES+2])\n",
    "        b_s_ = torch.FloatTensor(b_memory[:, -N_STATES:])"
   ]
  },
  {
   "cell_type": "code",
   "execution_count": 5,
   "metadata": {},
   "outputs": [
    {
     "data": {
      "text/plain": [
       "tensor([[-0.0409, -0.0454, -0.0077,  0.0128],\n",
       "        [ 0.0682,  0.9718, -0.0480, -1.4803],\n",
       "        [ 0.0047,  0.0387,  0.0159, -0.0373],\n",
       "        [ 0.0424,  0.3752, -0.0374, -0.6508],\n",
       "        [-0.0054, -0.4420,  0.1223,  0.7480],\n",
       "        [-0.0439,  0.1578, -0.0138, -0.4093],\n",
       "        [ 0.0434,  0.6272,  0.0022, -0.8389],\n",
       "        [ 0.0113,  0.8258, -0.0861, -1.3072],\n",
       "        [ 0.0646,  0.4533, -0.1547, -0.9123],\n",
       "        [-0.0124,  0.8231, -0.0572, -1.2279],\n",
       "        [-0.0110,  0.1519,  0.0181, -0.2485],\n",
       "        [-0.0826, -1.1858,  0.1219,  1.8377],\n",
       "        [-0.1020,  0.2146,  0.2077,  0.0973],\n",
       "        [ 0.1666,  0.7949, -0.1855, -1.2920],\n",
       "        [-0.0224, -0.7554, -0.0062,  1.1067],\n",
       "        [ 0.0577,  0.9607, -0.0789, -1.5399],\n",
       "        [-0.0403, -0.0303,  0.0128,  0.0244],\n",
       "        [ 0.0098,  0.7449, -0.0390, -1.1890],\n",
       "        [-0.0275,  0.2399,  0.0108, -0.3246],\n",
       "        [ 0.0250, -0.7669, -0.0362,  1.0422],\n",
       "        [ 0.0027,  0.4352, -0.0263, -0.6271],\n",
       "        [-0.0423,  0.7928, -0.0288, -1.4077],\n",
       "        [ 0.0094, -0.5551, -0.1234,  0.6021],\n",
       "        [ 0.1368, -0.3769, -0.2003,  0.1241],\n",
       "        [ 0.1188, -0.4010, -0.0891,  0.3968],\n",
       "        [ 0.0223, -0.5969,  0.0496,  0.9150],\n",
       "        [-0.0124,  0.8231, -0.0572, -1.2279],\n",
       "        [-0.0605,  0.9303,  0.0821, -1.1385],\n",
       "        [ 0.0625,  0.9726, -0.0293, -1.4382],\n",
       "        [ 0.0737,  0.6502, -0.1730, -1.2494],\n",
       "        [ 0.0676,  0.8058, -0.0410, -1.1574],\n",
       "        [-0.1289, -0.1588,  0.1790,  0.2049]])"
      ]
     },
     "execution_count": 5,
     "metadata": {},
     "output_type": "execute_result"
    }
   ],
   "source": [
    "b_s"
   ]
  },
  {
   "cell_type": "code",
   "execution_count": 6,
   "metadata": {},
   "outputs": [
    {
     "data": {
      "text/plain": [
       "tensor([[1.9158, 1.9213],\n",
       "        [1.5634, 1.5654],\n",
       "        [1.8751, 1.8814],\n",
       "        [1.7009, 1.7032],\n",
       "        [1.3147, 1.2893],\n",
       "        [1.8582, 1.8630],\n",
       "        [1.8873, 1.8910],\n",
       "        [1.4193, 1.4208],\n",
       "        [1.1027, 1.1004],\n",
       "        [1.5797, 1.5826],\n",
       "        [1.8844, 1.8927],\n",
       "        [1.0860, 1.0818],\n",
       "        [0.9287, 0.8911],\n",
       "        [0.8975, 0.8923],\n",
       "        [1.8152, 1.8176],\n",
       "        [1.4085, 1.4097],\n",
       "        [1.8572, 1.8640],\n",
       "        [1.6514, 1.6547],\n",
       "        [1.8993, 1.9082],\n",
       "        [1.8861, 1.8874],\n",
       "        [1.7824, 1.7857],\n",
       "        [1.6790, 1.6840],\n",
       "        [1.4261, 1.4247],\n",
       "        [0.9477, 0.9417],\n",
       "        [1.5277, 1.5258],\n",
       "        [1.6328, 1.6209],\n",
       "        [1.5797, 1.5826],\n",
       "        [1.7023, 1.6900],\n",
       "        [1.6621, 1.6649],\n",
       "        [0.9747, 0.9718],\n",
       "        [1.6383, 1.6403],\n",
       "        [1.0698, 1.0389]], grad_fn=<AddmmBackward>)"
      ]
     },
     "execution_count": 6,
     "metadata": {},
     "output_type": "execute_result"
    }
   ],
   "source": [
    "dqn.eval_net(b_s)"
   ]
  },
  {
   "cell_type": "code",
   "execution_count": 7,
   "metadata": {},
   "outputs": [
    {
     "data": {
      "text/plain": [
       "tensor([[0],\n",
       "        [1],\n",
       "        [1],\n",
       "        [1],\n",
       "        [1],\n",
       "        [1],\n",
       "        [1],\n",
       "        [1],\n",
       "        [1],\n",
       "        [1],\n",
       "        [1],\n",
       "        [0],\n",
       "        [1],\n",
       "        [0],\n",
       "        [0],\n",
       "        [1],\n",
       "        [1],\n",
       "        [1],\n",
       "        [1],\n",
       "        [0],\n",
       "        [1],\n",
       "        [1],\n",
       "        [0],\n",
       "        [0],\n",
       "        [0],\n",
       "        [1],\n",
       "        [1],\n",
       "        [1],\n",
       "        [0],\n",
       "        [1],\n",
       "        [1],\n",
       "        [1]])"
      ]
     },
     "execution_count": 7,
     "metadata": {},
     "output_type": "execute_result"
    }
   ],
   "source": [
    "b_a"
   ]
  },
  {
   "cell_type": "code",
   "execution_count": 8,
   "metadata": {},
   "outputs": [
    {
     "data": {
      "text/plain": [
       "tensor([[1.9158],\n",
       "        [1.5654],\n",
       "        [1.8814],\n",
       "        [1.7032],\n",
       "        [1.2893],\n",
       "        [1.8630],\n",
       "        [1.8910],\n",
       "        [1.4208],\n",
       "        [1.1004],\n",
       "        [1.5826],\n",
       "        [1.8927],\n",
       "        [1.0860],\n",
       "        [0.8911],\n",
       "        [0.8975],\n",
       "        [1.8152],\n",
       "        [1.4097],\n",
       "        [1.8640],\n",
       "        [1.6547],\n",
       "        [1.9082],\n",
       "        [1.8861],\n",
       "        [1.7857],\n",
       "        [1.6840],\n",
       "        [1.4261],\n",
       "        [0.9477],\n",
       "        [1.5277],\n",
       "        [1.6209],\n",
       "        [1.5826],\n",
       "        [1.6900],\n",
       "        [1.6621],\n",
       "        [0.9718],\n",
       "        [1.6403],\n",
       "        [1.0389]], grad_fn=<GatherBackward>)"
      ]
     },
     "execution_count": 8,
     "metadata": {},
     "output_type": "execute_result"
    }
   ],
   "source": [
    "dqn.eval_net(b_s).gather(1, b_a)"
   ]
  },
  {
   "cell_type": "code",
   "execution_count": null,
   "metadata": {},
   "outputs": [],
   "source": []
  }
 ],
 "metadata": {
  "kernelspec": {
   "display_name": "Python 3",
   "language": "python",
   "name": "python3"
  },
  "language_info": {
   "codemirror_mode": {
    "name": "ipython",
    "version": 3
   },
   "file_extension": ".py",
   "mimetype": "text/x-python",
   "name": "python",
   "nbconvert_exporter": "python",
   "pygments_lexer": "ipython3",
   "version": "3.7.6"
  }
 },
 "nbformat": 4,
 "nbformat_minor": 4
}
